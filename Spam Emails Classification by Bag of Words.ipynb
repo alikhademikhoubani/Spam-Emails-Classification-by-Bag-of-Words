{
 "cells": [
  {
   "cell_type": "code",
   "execution_count": 1,
   "id": "7ca559b2",
   "metadata": {},
   "outputs": [],
   "source": [
    "import pandas as pd\n",
    "import numpy as np\n",
    "from sklearn.model_selection import train_test_split\n",
    "from sklearn.feature_extraction.text import CountVectorizer\n",
    "from sklearn.naive_bayes import MultinomialNB\n",
    "from sklearn.metrics import classification_report,confusion_matrix\n",
    "import seaborn as sns\n",
    "import matplotlib.pyplot as plt"
   ]
  },
  {
   "cell_type": "code",
   "execution_count": 2,
   "id": "51d058fa",
   "metadata": {},
   "outputs": [
    {
     "data": {
      "text/html": [
       "<div>\n",
       "<style scoped>\n",
       "    .dataframe tbody tr th:only-of-type {\n",
       "        vertical-align: middle;\n",
       "    }\n",
       "\n",
       "    .dataframe tbody tr th {\n",
       "        vertical-align: top;\n",
       "    }\n",
       "\n",
       "    .dataframe thead th {\n",
       "        text-align: right;\n",
       "    }\n",
       "</style>\n",
       "<table border=\"1\" class=\"dataframe\">\n",
       "  <thead>\n",
       "    <tr style=\"text-align: right;\">\n",
       "      <th></th>\n",
       "      <th>Category</th>\n",
       "      <th>Message</th>\n",
       "    </tr>\n",
       "  </thead>\n",
       "  <tbody>\n",
       "    <tr>\n",
       "      <th>0</th>\n",
       "      <td>ham</td>\n",
       "      <td>Go until jurong point, crazy.. Available only ...</td>\n",
       "    </tr>\n",
       "    <tr>\n",
       "      <th>1</th>\n",
       "      <td>ham</td>\n",
       "      <td>Ok lar... Joking wif u oni...</td>\n",
       "    </tr>\n",
       "    <tr>\n",
       "      <th>2</th>\n",
       "      <td>spam</td>\n",
       "      <td>Free entry in 2 a wkly comp to win FA Cup fina...</td>\n",
       "    </tr>\n",
       "    <tr>\n",
       "      <th>3</th>\n",
       "      <td>ham</td>\n",
       "      <td>U dun say so early hor... U c already then say...</td>\n",
       "    </tr>\n",
       "    <tr>\n",
       "      <th>4</th>\n",
       "      <td>ham</td>\n",
       "      <td>Nah I don't think he goes to usf, he lives aro...</td>\n",
       "    </tr>\n",
       "  </tbody>\n",
       "</table>\n",
       "</div>"
      ],
      "text/plain": [
       "  Category                                            Message\n",
       "0      ham  Go until jurong point, crazy.. Available only ...\n",
       "1      ham                      Ok lar... Joking wif u oni...\n",
       "2     spam  Free entry in 2 a wkly comp to win FA Cup fina...\n",
       "3      ham  U dun say so early hor... U c already then say...\n",
       "4      ham  Nah I don't think he goes to usf, he lives aro..."
      ]
     },
     "execution_count": 2,
     "metadata": {},
     "output_type": "execute_result"
    }
   ],
   "source": [
    "df=pd.read_csv('spam.csv')\n",
    "df.head()"
   ]
  },
  {
   "cell_type": "code",
   "execution_count": 3,
   "id": "f3dafabb",
   "metadata": {},
   "outputs": [
    {
     "data": {
      "text/plain": [
       "(5572, 2)"
      ]
     },
     "execution_count": 3,
     "metadata": {},
     "output_type": "execute_result"
    }
   ],
   "source": [
    "df.shape"
   ]
  },
  {
   "cell_type": "code",
   "execution_count": 4,
   "id": "54b6b4a5",
   "metadata": {},
   "outputs": [
    {
     "data": {
      "text/plain": [
       "False"
      ]
     },
     "execution_count": 4,
     "metadata": {},
     "output_type": "execute_result"
    }
   ],
   "source": [
    "df.isnull().values.any()"
   ]
  },
  {
   "cell_type": "code",
   "execution_count": 5,
   "id": "2dd4de34",
   "metadata": {},
   "outputs": [
    {
     "data": {
      "text/plain": [
       "Category    0\n",
       "Message     0\n",
       "dtype: int64"
      ]
     },
     "execution_count": 5,
     "metadata": {},
     "output_type": "execute_result"
    }
   ],
   "source": [
    "df.apply(pd.isnull).sum()"
   ]
  },
  {
   "cell_type": "code",
   "execution_count": 6,
   "id": "084e6a11",
   "metadata": {},
   "outputs": [
    {
     "name": "stdout",
     "output_type": "stream",
     "text": [
      "<class 'pandas.core.frame.DataFrame'>\n",
      "RangeIndex: 5572 entries, 0 to 5571\n",
      "Data columns (total 2 columns):\n",
      " #   Column    Non-Null Count  Dtype \n",
      "---  ------    --------------  ----- \n",
      " 0   Category  5572 non-null   object\n",
      " 1   Message   5572 non-null   object\n",
      "dtypes: object(2)\n",
      "memory usage: 87.2+ KB\n"
     ]
    }
   ],
   "source": [
    "df.info()"
   ]
  },
  {
   "cell_type": "code",
   "execution_count": 7,
   "id": "7ef857a9",
   "metadata": {},
   "outputs": [
    {
     "data": {
      "text/plain": [
       "Category\n",
       "ham     4825\n",
       "spam     747\n",
       "Name: count, dtype: int64"
      ]
     },
     "execution_count": 7,
     "metadata": {},
     "output_type": "execute_result"
    }
   ],
   "source": [
    "df.Category.value_counts()"
   ]
  },
  {
   "cell_type": "code",
   "execution_count": 8,
   "id": "d06789a7",
   "metadata": {},
   "outputs": [],
   "source": [
    "df['spam']=df['Category'].apply(lambda x:1 if x=='spam' else 0)"
   ]
  },
  {
   "cell_type": "code",
   "execution_count": 9,
   "id": "1fd75514",
   "metadata": {},
   "outputs": [
    {
     "data": {
      "text/html": [
       "<div>\n",
       "<style scoped>\n",
       "    .dataframe tbody tr th:only-of-type {\n",
       "        vertical-align: middle;\n",
       "    }\n",
       "\n",
       "    .dataframe tbody tr th {\n",
       "        vertical-align: top;\n",
       "    }\n",
       "\n",
       "    .dataframe thead th {\n",
       "        text-align: right;\n",
       "    }\n",
       "</style>\n",
       "<table border=\"1\" class=\"dataframe\">\n",
       "  <thead>\n",
       "    <tr style=\"text-align: right;\">\n",
       "      <th></th>\n",
       "      <th>Category</th>\n",
       "      <th>Message</th>\n",
       "      <th>spam</th>\n",
       "    </tr>\n",
       "  </thead>\n",
       "  <tbody>\n",
       "    <tr>\n",
       "      <th>0</th>\n",
       "      <td>ham</td>\n",
       "      <td>Go until jurong point, crazy.. Available only ...</td>\n",
       "      <td>0</td>\n",
       "    </tr>\n",
       "    <tr>\n",
       "      <th>1</th>\n",
       "      <td>ham</td>\n",
       "      <td>Ok lar... Joking wif u oni...</td>\n",
       "      <td>0</td>\n",
       "    </tr>\n",
       "    <tr>\n",
       "      <th>2</th>\n",
       "      <td>spam</td>\n",
       "      <td>Free entry in 2 a wkly comp to win FA Cup fina...</td>\n",
       "      <td>1</td>\n",
       "    </tr>\n",
       "    <tr>\n",
       "      <th>3</th>\n",
       "      <td>ham</td>\n",
       "      <td>U dun say so early hor... U c already then say...</td>\n",
       "      <td>0</td>\n",
       "    </tr>\n",
       "    <tr>\n",
       "      <th>4</th>\n",
       "      <td>ham</td>\n",
       "      <td>Nah I don't think he goes to usf, he lives aro...</td>\n",
       "      <td>0</td>\n",
       "    </tr>\n",
       "  </tbody>\n",
       "</table>\n",
       "</div>"
      ],
      "text/plain": [
       "  Category                                            Message  spam\n",
       "0      ham  Go until jurong point, crazy.. Available only ...     0\n",
       "1      ham                      Ok lar... Joking wif u oni...     0\n",
       "2     spam  Free entry in 2 a wkly comp to win FA Cup fina...     1\n",
       "3      ham  U dun say so early hor... U c already then say...     0\n",
       "4      ham  Nah I don't think he goes to usf, he lives aro...     0"
      ]
     },
     "execution_count": 9,
     "metadata": {},
     "output_type": "execute_result"
    }
   ],
   "source": [
    "df.head()"
   ]
  },
  {
   "cell_type": "code",
   "execution_count": 10,
   "id": "4743be39",
   "metadata": {},
   "outputs": [],
   "source": [
    "X_train,X_test,y_train,y_test=train_test_split(df.Message,df.spam,test_size=0.2,random_state=101)"
   ]
  },
  {
   "cell_type": "code",
   "execution_count": 11,
   "id": "1f4c8805",
   "metadata": {},
   "outputs": [
    {
     "data": {
      "text/plain": [
       "(4457,)"
      ]
     },
     "execution_count": 11,
     "metadata": {},
     "output_type": "execute_result"
    }
   ],
   "source": [
    "X_train.shape"
   ]
  },
  {
   "cell_type": "code",
   "execution_count": 12,
   "id": "fd78a728",
   "metadata": {},
   "outputs": [
    {
     "data": {
      "text/plain": [
       "(1115,)"
      ]
     },
     "execution_count": 12,
     "metadata": {},
     "output_type": "execute_result"
    }
   ],
   "source": [
    "X_test.shape"
   ]
  },
  {
   "cell_type": "code",
   "execution_count": 13,
   "id": "809d607e",
   "metadata": {},
   "outputs": [
    {
     "data": {
      "text/plain": [
       "pandas.core.series.Series"
      ]
     },
     "execution_count": 13,
     "metadata": {},
     "output_type": "execute_result"
    }
   ],
   "source": [
    "type(X_train)"
   ]
  },
  {
   "cell_type": "code",
   "execution_count": 14,
   "id": "a3c64949",
   "metadata": {},
   "outputs": [
    {
     "data": {
      "text/plain": [
       "pandas.core.series.Series"
      ]
     },
     "execution_count": 14,
     "metadata": {},
     "output_type": "execute_result"
    }
   ],
   "source": [
    "type(X_test)"
   ]
  },
  {
   "cell_type": "code",
   "execution_count": 15,
   "id": "0ba19c63",
   "metadata": {},
   "outputs": [
    {
     "data": {
      "text/plain": [
       "1398    Then we wait 4 u lor... No need 2 feel bad lar...\n",
       "1084    Wat makes some people dearer is not just de ha...\n",
       "1086    FR'NDSHIP is like a needle of a clock. Though ...\n",
       "2655                          Its sarcasm.. .nt scarcasim\n",
       "Name: Message, dtype: object"
      ]
     },
     "execution_count": 15,
     "metadata": {},
     "output_type": "execute_result"
    }
   ],
   "source": [
    "X_train[:4]"
   ]
  },
  {
   "cell_type": "code",
   "execution_count": 16,
   "id": "2ae20512",
   "metadata": {},
   "outputs": [
    {
     "data": {
      "text/plain": [
       "pandas.core.series.Series"
      ]
     },
     "execution_count": 16,
     "metadata": {},
     "output_type": "execute_result"
    }
   ],
   "source": [
    "type(y_train)"
   ]
  },
  {
   "cell_type": "code",
   "execution_count": 17,
   "id": "6bdd1d8e",
   "metadata": {},
   "outputs": [
    {
     "data": {
      "text/plain": [
       "1398    0\n",
       "1084    0\n",
       "1086    0\n",
       "2655    0\n",
       "Name: spam, dtype: int64"
      ]
     },
     "execution_count": 17,
     "metadata": {},
     "output_type": "execute_result"
    }
   ],
   "source": [
    "y_train[:4]"
   ]
  },
  {
   "cell_type": "code",
   "execution_count": 18,
   "id": "ce8bf362",
   "metadata": {},
   "outputs": [
    {
     "data": {
      "text/plain": [
       "numpy.ndarray"
      ]
     },
     "execution_count": 18,
     "metadata": {},
     "output_type": "execute_result"
    }
   ],
   "source": [
    "type(X_train.values)"
   ]
  },
  {
   "cell_type": "code",
   "execution_count": 19,
   "id": "970846f6",
   "metadata": {},
   "outputs": [
    {
     "data": {
      "text/plain": [
       "<4457x7774 sparse matrix of type '<class 'numpy.int64'>'\n",
       "\twith 59893 stored elements in Compressed Sparse Row format>"
      ]
     },
     "execution_count": 19,
     "metadata": {},
     "output_type": "execute_result"
    }
   ],
   "source": [
    "v=CountVectorizer()\n",
    "X_train_cv=v.fit_transform(X_train)\n",
    "X_train_cv"
   ]
  },
  {
   "cell_type": "code",
   "execution_count": 20,
   "id": "1e780813",
   "metadata": {},
   "outputs": [
    {
     "data": {
      "text/plain": [
       "array([[0, 0, 0, ..., 0, 0, 0],\n",
       "       [0, 0, 0, ..., 0, 0, 0],\n",
       "       [0, 0, 0, ..., 0, 0, 0],\n",
       "       ...,\n",
       "       [0, 0, 0, ..., 0, 0, 0],\n",
       "       [0, 0, 0, ..., 0, 0, 0],\n",
       "       [0, 0, 0, ..., 0, 0, 0]], dtype=int64)"
      ]
     },
     "execution_count": 20,
     "metadata": {},
     "output_type": "execute_result"
    }
   ],
   "source": [
    "X_train_cv.toarray()"
   ]
  },
  {
   "cell_type": "code",
   "execution_count": 21,
   "id": "ec304aa0",
   "metadata": {},
   "outputs": [
    {
     "data": {
      "text/plain": [
       "(4457, 7774)"
      ]
     },
     "execution_count": 21,
     "metadata": {},
     "output_type": "execute_result"
    }
   ],
   "source": [
    "X_train_cv.shape"
   ]
  },
  {
   "cell_type": "code",
   "execution_count": 22,
   "id": "be38ede1",
   "metadata": {},
   "outputs": [
    {
     "data": {
      "text/plain": [
       "array(['answer', 'answered', 'answerin', 'answering', 'answers', 'antha',\n",
       "       'anthony', 'anti', 'antibiotic', 'any', 'anybody', 'anyhow',\n",
       "       'anymore', 'anyone', 'anyones', 'anyplaces', 'anythiing',\n",
       "       'anythin', 'anything', 'anythingtomorrow', 'anytime', 'anyway',\n",
       "       'anyways', 'anywhere', 'aom', 'apart', 'apartment', 'apes',\n",
       "       'apeshit', 'aphex', 'apnt', 'apo', 'apologetic', 'apologise',\n",
       "       'apologize', 'apology', 'app', 'apparently', 'appeal', 'appear',\n",
       "       'applausestore', 'applebees', 'application', 'apply', 'applyed',\n",
       "       'appointment', 'appointments', 'appreciate', 'appreciated',\n",
       "       'approaching'], dtype=object)"
      ]
     },
     "execution_count": 22,
     "metadata": {},
     "output_type": "execute_result"
    }
   ],
   "source": [
    "v.get_feature_names_out()[1000:1050]"
   ]
  },
  {
   "cell_type": "code",
   "execution_count": 23,
   "id": "d4a32155",
   "metadata": {},
   "outputs": [
    {
     "data": {
      "text/plain": [
       "(7774,)"
      ]
     },
     "execution_count": 23,
     "metadata": {},
     "output_type": "execute_result"
    }
   ],
   "source": [
    "v.get_feature_names_out().shape"
   ]
  },
  {
   "cell_type": "code",
   "execution_count": 24,
   "id": "bdf10f37",
   "metadata": {},
   "outputs": [
    {
     "data": {
      "text/plain": [
       "['__annotations__',\n",
       " '__class__',\n",
       " '__delattr__',\n",
       " '__dict__',\n",
       " '__dir__',\n",
       " '__doc__',\n",
       " '__eq__',\n",
       " '__format__',\n",
       " '__ge__',\n",
       " '__getattribute__',\n",
       " '__getstate__',\n",
       " '__gt__',\n",
       " '__hash__',\n",
       " '__init__',\n",
       " '__init_subclass__',\n",
       " '__le__',\n",
       " '__lt__',\n",
       " '__module__',\n",
       " '__ne__',\n",
       " '__new__',\n",
       " '__reduce__',\n",
       " '__reduce_ex__',\n",
       " '__repr__',\n",
       " '__setattr__',\n",
       " '__setstate__',\n",
       " '__sizeof__',\n",
       " '__sklearn_clone__',\n",
       " '__str__',\n",
       " '__subclasshook__',\n",
       " '__weakref__',\n",
       " '_build_request_for_signature',\n",
       " '_char_ngrams',\n",
       " '_char_wb_ngrams',\n",
       " '_check_feature_names',\n",
       " '_check_n_features',\n",
       " '_check_stop_words_consistency',\n",
       " '_check_vocabulary',\n",
       " '_count_vocab',\n",
       " '_get_default_requests',\n",
       " '_get_metadata_request',\n",
       " '_get_param_names',\n",
       " '_get_tags',\n",
       " '_limit_features',\n",
       " '_more_tags',\n",
       " '_parameter_constraints',\n",
       " '_repr_html_',\n",
       " '_repr_html_inner',\n",
       " '_repr_mimebundle_',\n",
       " '_sort_features',\n",
       " '_stop_words_id',\n",
       " '_validate_data',\n",
       " '_validate_ngram_range',\n",
       " '_validate_params',\n",
       " '_validate_vocabulary',\n",
       " '_warn_for_unused_params',\n",
       " '_white_spaces',\n",
       " '_word_ngrams',\n",
       " 'analyzer',\n",
       " 'binary',\n",
       " 'build_analyzer',\n",
       " 'build_preprocessor',\n",
       " 'build_tokenizer',\n",
       " 'decode',\n",
       " 'decode_error',\n",
       " 'dtype',\n",
       " 'encoding',\n",
       " 'fit',\n",
       " 'fit_transform',\n",
       " 'fixed_vocabulary_',\n",
       " 'get_feature_names_out',\n",
       " 'get_metadata_routing',\n",
       " 'get_params',\n",
       " 'get_stop_words',\n",
       " 'input',\n",
       " 'inverse_transform',\n",
       " 'lowercase',\n",
       " 'max_df',\n",
       " 'max_features',\n",
       " 'min_df',\n",
       " 'ngram_range',\n",
       " 'preprocessor',\n",
       " 'set_fit_request',\n",
       " 'set_params',\n",
       " 'set_transform_request',\n",
       " 'stop_words',\n",
       " 'stop_words_',\n",
       " 'strip_accents',\n",
       " 'token_pattern',\n",
       " 'tokenizer',\n",
       " 'transform',\n",
       " 'vocabulary',\n",
       " 'vocabulary_']"
      ]
     },
     "execution_count": 24,
     "metadata": {},
     "output_type": "execute_result"
    }
   ],
   "source": [
    "dir(v)"
   ]
  },
  {
   "cell_type": "code",
   "execution_count": 25,
   "id": "2a5fd93f",
   "metadata": {
    "scrolled": false
   },
   "outputs": [
    {
     "data": {
      "text/plain": [
       "{'then': 6863,\n",
       " 'we': 7454,\n",
       " 'wait': 7387,\n",
       " 'lor': 4241,\n",
       " 'no': 4837,\n",
       " 'need': 4767,\n",
       " 'feel': 2818,\n",
       " 'bad': 1218,\n",
       " 'lar': 4051,\n",
       " 'wat': 7433,\n",
       " 'makes': 4361,\n",
       " 'some': 6336,\n",
       " 'people': 5193,\n",
       " 'dearer': 2195,\n",
       " 'is': 3771,\n",
       " 'not': 4873,\n",
       " 'just': 3903,\n",
       " 'de': 2188,\n",
       " 'happiness': 3353,\n",
       " 'dat': 2172,\n",
       " 'when': 7520,\n",
       " 'meet': 4461,\n",
       " 'them': 6859,\n",
       " 'but': 1593,\n",
       " 'pain': 5101,\n",
       " 'miss': 4546,\n",
       " 'dem': 2242,\n",
       " 'fr': 2987,\n",
       " 'ndship': 4756,\n",
       " 'like': 4143,\n",
       " 'needle': 4771,\n",
       " 'of': 4937,\n",
       " 'clock': 1862,\n",
       " 'though': 6900,\n",
       " 'in': 3663,\n",
       " 'same': 5936,\n",
       " 'nt': 4892,\n",
       " 'able': 769,\n",
       " 'met': 4499,\n",
       " 'evn': 2691,\n",
       " 'if': 3625,\n",
       " 'itz': 3795,\n",
       " 'only': 4991,\n",
       " '4few': 516,\n",
       " 'seconds': 6017,\n",
       " 'bt': 1558,\n",
       " 'alwys': 950,\n",
       " 'stay': 6497,\n",
       " 'conected': 1968,\n",
       " 'gud': 3283,\n",
       " '9t': 749,\n",
       " 'its': 3791,\n",
       " 'sarcasm': 5949,\n",
       " 'scarcasim': 5978,\n",
       " 'tell': 6790,\n",
       " 'me': 4442,\n",
       " 'they': 6874,\n",
       " 're': 5633,\n",
       " 'female': 2829,\n",
       " 'how': 3543,\n",
       " 'you': 7735,\n",
       " 'throwing': 6913,\n",
       " 'deciding': 2205,\n",
       " 'what': 7514,\n",
       " 'all': 929,\n",
       " 'to': 6970,\n",
       " 'get': 3133,\n",
       " 'now': 4887,\n",
       " 'leave': 4094,\n",
       " 'it': 3783,\n",
       " 'will': 7557,\n",
       " 'always': 949,\n",
       " 'be': 1287,\n",
       " 'ignorant': 3628,\n",
       " 'aiyah': 905,\n",
       " 'rain': 5595,\n",
       " 'quite': 5578,\n",
       " 'big': 1362,\n",
       " 'leh': 4105,\n",
       " 'drizzling': 2466,\n",
       " 'can': 1646,\n",
       " 'at': 1137,\n",
       " 'least': 4092,\n",
       " 'run': 5899,\n",
       " 'home': 3498,\n",
       " 'babe': 1206,\n",
       " 'answering': 1003,\n",
       " 'see': 6028,\n",
       " 'maybe': 4436,\n",
       " 'better': 1347,\n",
       " 'reboot': 5663,\n",
       " 'ym': 7730,\n",
       " 'got': 3217,\n",
       " 'the': 6850,\n",
       " 'photo': 5241,\n",
       " 'great': 3253,\n",
       " 'come': 1923,\n",
       " 'nordstrom': 4863,\n",
       " 'done': 2413,\n",
       " 'pa': 5091,\n",
       " 'went': 7498,\n",
       " 'bath': 1261,\n",
       " 'jus': 3902,\n",
       " 'telling': 6791,\n",
       " 'll': 4195,\n",
       " 'leaving': 4096,\n",
       " 'shanghai': 6103,\n",
       " 'on': 4981,\n",
       " '21st': 353,\n",
       " 'instead': 3724,\n",
       " 'so': 6323,\n",
       " 'haf': 3313,\n",
       " 'more': 4624,\n",
       " 'time': 6938,\n",
       " 'up': 7217,\n",
       " 'cya': 2141,\n",
       " 'ok': 4960,\n",
       " 'go': 3178,\n",
       " 'write': 7656,\n",
       " 'msg': 4658,\n",
       " 'put': 5553,\n",
       " 'dictionary': 2301,\n",
       " 'mode': 4591,\n",
       " 'cover': 2051,\n",
       " 'screen': 6002,\n",
       " 'with': 7583,\n",
       " 'hand': 3330,\n",
       " 'press': 5444,\n",
       " 'lt': 4287,\n",
       " 'gt': 3277,\n",
       " 'gently': 3125,\n",
       " 'remove': 5740,\n",
       " 'ur': 7233,\n",
       " 'interesting': 3733,\n",
       " 'wud': 7673,\n",
       " 'never': 4795,\n",
       " 'mind': 4522,\n",
       " 'dont': 2415,\n",
       " 'or': 5018,\n",
       " 'wil': 7554,\n",
       " 'really': 5653,\n",
       " 'hurt': 3583,\n",
       " 'wen': 7496,\n",
       " 'amp': 966,\n",
       " 'take': 6725,\n",
       " 'care': 1667,\n",
       " 'gent': 3122,\n",
       " 'are': 1066,\n",
       " 'trying': 7098,\n",
       " 'contact': 1990,\n",
       " 'last': 4056,\n",
       " 'weekends': 7480,\n",
       " 'draw': 2450,\n",
       " 'shows': 6174,\n",
       " 'that': 6847,\n",
       " 'won': 7609,\n",
       " '1000': 253,\n",
       " 'prize': 5471,\n",
       " 'guaranteed': 3281,\n",
       " 'call': 1623,\n",
       " '09064012160': 208,\n",
       " 'claim': 1837,\n",
       " 'code': 1894,\n",
       " 'k52': 3910,\n",
       " 'valid': 7278,\n",
       " '12hrs': 282,\n",
       " '150ppm': 303,\n",
       " 'important': 3652,\n",
       " 'information': 3698,\n",
       " 'orange': 5022,\n",
       " 'user': 7255,\n",
       " 'today': 6977,\n",
       " 'your': 7741,\n",
       " 'lucky': 4294,\n",
       " 'day': 2181,\n",
       " '2find': 385,\n",
       " 'out': 5056,\n",
       " 'why': 7542,\n",
       " 'log': 4212,\n",
       " 'onto': 4993,\n",
       " 'http': 3558,\n",
       " 'www': 7677,\n",
       " 'urawinner': 7234,\n",
       " 'com': 1917,\n",
       " 'there': 6867,\n",
       " 'fantastic': 2787,\n",
       " 'surprise': 6665,\n",
       " 'awaiting': 1186,\n",
       " 'sunshine': 6640,\n",
       " 'quiz': 5581,\n",
       " 'wkly': 7595,\n",
       " 'win': 7559,\n",
       " 'top': 7019,\n",
       " 'sony': 6356,\n",
       " 'dvd': 2503,\n",
       " 'player': 5294,\n",
       " 'know': 3992,\n",
       " 'which': 7528,\n",
       " 'country': 2042,\n",
       " 'algarve': 924,\n",
       " 'txt': 7131,\n",
       " 'ansr': 999,\n",
       " '82277': 664,\n",
       " '50': 539,\n",
       " 'sp': 6387,\n",
       " 'tyrone': 7147,\n",
       " 'please': 5300,\n",
       " 'our': 5053,\n",
       " 'customer': 2130,\n",
       " 'service': 6069,\n",
       " 'representative': 5763,\n",
       " 'freephone': 3004,\n",
       " '0808': 55,\n",
       " '145': 292,\n",
       " '4742': 506,\n",
       " 'between': 1350,\n",
       " '9am': 746,\n",
       " '11pm': 272,\n",
       " 'as': 1105,\n",
       " 'have': 3380,\n",
       " 'cash': 1688,\n",
       " '5000': 541,\n",
       " 'said': 5921,\n",
       " 've': 7295,\n",
       " 'wisdom': 7573,\n",
       " 'teeth': 6784,\n",
       " 'hidden': 3449,\n",
       " 'inside': 3716,\n",
       " 'mayb': 4435,\n",
       " 'my': 4706,\n",
       " 'vl': 7346,\n",
       " 'nice': 4811,\n",
       " 'and': 978,\n",
       " 'chat': 1758,\n",
       " 'finish': 2873,\n",
       " 'ahhhh': 892,\n",
       " 'woken': 7606,\n",
       " 'had': 3311,\n",
       " 'dream': 2453,\n",
       " 'about': 771,\n",
       " 'tho': 6896,\n",
       " 'right': 5828,\n",
       " 'didnt': 2305,\n",
       " 'anything': 1018,\n",
       " 'comedy': 1924,\n",
       " 'night': 4819,\n",
       " 'guess': 3287,\n",
       " 'im': 3639,\n",
       " 'for': 2953,\n",
       " 'think': 6881,\n",
       " 'could': 2036,\n",
       " 'stop': 6532,\n",
       " 'by': 1606,\n",
       " 'an': 974,\n",
       " 'hour': 3535,\n",
       " 'roommate': 5866,\n",
       " 'looking': 4234,\n",
       " 'stock': 6524,\n",
       " 'trip': 7078,\n",
       " 'sent': 6057,\n",
       " 'again': 874,\n",
       " 'do': 2380,\n",
       " 'scream': 5999,\n",
       " 'moan': 4580,\n",
       " 'bed': 1302,\n",
       " 'princess': 5462,\n",
       " 'everywhere': 2687,\n",
       " 'dirt': 2340,\n",
       " 'floor': 2915,\n",
       " 'windows': 7562,\n",
       " 'even': 2670,\n",
       " 'shirt': 6132,\n",
       " 'sometimes': 6347,\n",
       " 'open': 5001,\n",
       " 'mouth': 4643,\n",
       " 'comes': 1925,\n",
       " 'flowing': 2920,\n",
       " 'world': 7633,\n",
       " 'without': 7587,\n",
       " 'half': 3323,\n",
       " 'chores': 1820,\n",
       " 'too': 7010,\n",
       " 'joy': 3883,\n",
       " 'lots': 4251,\n",
       " 'tv': 7122,\n",
       " 'things': 6880,\n",
       " 'must': 4699,\n",
       " 'exist': 2718,\n",
       " 'hail': 3317,\n",
       " 'mist': 4556,\n",
       " 'here': 3437,\n",
       " 'become': 1298,\n",
       " 'one': 4986,\n",
       " 'hey': 3444,\n",
       " 'kate': 3929,\n",
       " 'hope': 3513,\n",
       " 'give': 3161,\n",
       " 'buz': 1599,\n",
       " 'wedlunch': 7473,\n",
       " 'outsomewhere': 5067,\n",
       " 'adrink': 842,\n",
       " 'town': 7041,\n",
       " 'cud': 2109,\n",
       " '2watershd': 417,\n",
       " 'bit': 1379,\n",
       " 'ppl': 5399,\n",
       " 'fromwrk': 3037,\n",
       " 'bthere': 1559,\n",
       " 'love': 4263,\n",
       " 'petexxx': 5222,\n",
       " 'good': 3202,\n",
       " 'evening': 2671,\n",
       " 'ttyl': 7107,\n",
       " 'chief': 1795,\n",
       " 'bell': 1327,\n",
       " 'this': 6890,\n",
       " 'talk': 6733,\n",
       " 'royal': 5877,\n",
       " 'visit': 7339,\n",
       " '1st': 331,\n",
       " 'june': 3899,\n",
       " 'let': 4119,\n",
       " 'kicks': 3960,\n",
       " 'amazing': 953,\n",
       " 'quote': 5584,\n",
       " 'life': 4134,\n",
       " 'difficult': 2317,\n",
       " 'decide': 2203,\n",
       " 'whats': 7516,\n",
       " 'wrong': 7663,\n",
       " 'lie': 4132,\n",
       " 'brings': 1528,\n",
       " 'smile': 6291,\n",
       " 'truth': 7095,\n",
       " 'tear': 6775,\n",
       " 'friendship': 3020,\n",
       " 'poem': 5333,\n",
       " 'dear': 2193,\n",
       " 'near': 4758,\n",
       " 'hear': 3402,\n",
       " 'fear': 2810,\n",
       " 'live': 4188,\n",
       " 'cheer': 1774,\n",
       " 'ni8': 4809,\n",
       " 'alle': 933,\n",
       " 'mone': 4607,\n",
       " 'eppolum': 2636,\n",
       " 'oru': 5040,\n",
       " 'pole': 5338,\n",
       " 'allalo': 931,\n",
       " 'double': 2429,\n",
       " 'eviction': 2689,\n",
       " 'week': 7478,\n",
       " 'spiral': 6424,\n",
       " 'michael': 4503,\n",
       " 'riddance': 5825,\n",
       " 'uncle': 7172,\n",
       " 'abbey': 760,\n",
       " 'happy': 3354,\n",
       " 'new': 4799,\n",
       " 'year': 7713,\n",
       " 'abiola': 767,\n",
       " 'hi': 3448,\n",
       " 'journey': 3882,\n",
       " 'hasnt': 3368,\n",
       " 'been': 1309,\n",
       " 'gd': 3110,\n",
       " 'mins': 4533,\n",
       " 'late': 4058,\n",
       " 'hcl': 3389,\n",
       " 'chennai': 1781,\n",
       " 'requires': 5770,\n",
       " 'freshers': 3012,\n",
       " 'voice': 7350,\n",
       " 'process': 5484,\n",
       " 'excellent': 2706,\n",
       " 'english': 2607,\n",
       " 'needed': 4769,\n",
       " 'salary': 5924,\n",
       " 'upto': 7232,\n",
       " 'ms': 4657,\n",
       " 'suman': 6630,\n",
       " 'telephonic': 6789,\n",
       " 'interview': 3736,\n",
       " 'via': 7311,\n",
       " 'indyarocks': 3690,\n",
       " 'did': 2302,\n",
       " 'library': 4128,\n",
       " 'sorry': 6368,\n",
       " 'blank': 1392,\n",
       " 'yup': 7760,\n",
       " 'serious': 6065,\n",
       " 'studying': 6578,\n",
       " 'knew': 3988,\n",
       " 'giving': 3164,\n",
       " 'break': 1507,\n",
       " 'few': 2835,\n",
       " 'times': 6939,\n",
       " 'woul': 7647,\n",
       " 'lead': 4083,\n",
       " 'wanting': 7415,\n",
       " 'curfew': 2121,\n",
       " 'was': 7426,\n",
       " 'gonna': 3200,\n",
       " 'gibe': 3147,\n",
       " 'til': 6936,\n",
       " 'midnight': 4506,\n",
       " 'movie': 4647,\n",
       " 'after': 868,\n",
       " 'getsleep': 3138,\n",
       " 'studdying': 6572,\n",
       " 'ear': 2510,\n",
       " 'training': 7051,\n",
       " 'freemsg': 3003,\n",
       " 'ready': 5643,\n",
       " 'horny': 3523,\n",
       " 'sex': 6081,\n",
       " 'fun': 3054,\n",
       " 'games': 3082,\n",
       " 'netcollex': 4786,\n",
       " 'ltd': 4288,\n",
       " '08700621170150p': 71,\n",
       " 'per': 5195,\n",
       " 'reply': 5758,\n",
       " 'end': 2593,\n",
       " 'yes': 7722,\n",
       " 'cheesy': 1778,\n",
       " 'songs': 6355,\n",
       " 'from': 3035,\n",
       " 'frosty': 3039,\n",
       " 'snowman': 6321,\n",
       " 'bucks': 1563,\n",
       " 'banks': 1240,\n",
       " 'fees': 2824,\n",
       " 'fixed': 2893,\n",
       " 'bank': 1239,\n",
       " 'find': 2868,\n",
       " 'dun': 2494,\n",
       " 'sad': 5916,\n",
       " 'over': 5072,\n",
       " 'thk': 6891,\n",
       " 'abt': 777,\n",
       " 'already': 940,\n",
       " 'concentrate': 1960,\n",
       " 'other': 5045,\n",
       " 'papers': 5120,\n",
       " 'oops': 5000,\n",
       " 'shower': 6168,\n",
       " 'called': 1629,\n",
       " 'parking': 5136,\n",
       " 'garage': 3088,\n",
       " 'collapsed': 1905,\n",
       " 'university': 7199,\n",
       " 'hospital': 3526,\n",
       " 'crazy': 2069,\n",
       " 'stuff': 6580,\n",
       " 'does': 2389,\n",
       " 'happen': 3345,\n",
       " 'place': 5278,\n",
       " 'exciting': 2708,\n",
       " 'adult': 845,\n",
       " 'singles': 6219,\n",
       " 'uk': 7159,\n",
       " '86688': 694,\n",
       " '150p': 299,\n",
       " 'grocers': 3265,\n",
       " 'oh': 4955,\n",
       " 'soooo': 6363,\n",
       " 'omg': 4979,\n",
       " 'missed': 4548,\n",
       " 'much': 4674,\n",
       " 'having': 3386,\n",
       " 'problems': 5478,\n",
       " 'provider': 5523,\n",
       " 'thank': 6839,\n",
       " 'tming': 6961,\n",
       " 'down': 2435,\n",
       " 'within': 7586,\n",
       " 'min': 4519,\n",
       " 'way': 7449,\n",
       " 'long': 4226,\n",
       " 'dry': 2480,\n",
       " 'spell': 6413,\n",
       " 'season': 6013,\n",
       " 'would': 7648,\n",
       " 'wife': 7550,\n",
       " 'she': 6113,\n",
       " 'murder': 4691,\n",
       " 'exactly': 2703,\n",
       " 'cine': 1831,\n",
       " 'cos': 2026,\n",
       " 'plaza': 5298,\n",
       " 'mah': 4348,\n",
       " 'email': 2578,\n",
       " 'id': 3613,\n",
       " 'soon': 6359,\n",
       " 'want': 7413,\n",
       " 'catch': 1698,\n",
       " 'strong': 6564,\n",
       " 'hands': 3334,\n",
       " 'fine': 2871,\n",
       " 'babes': 1207,\n",
       " 'aint': 899,\n",
       " 'saw': 5969,\n",
       " 'scary': 5980,\n",
       " 'yest': 7723,\n",
       " 'funny': 3062,\n",
       " '2mrw': 402,\n",
       " 'afternoon': 869,\n",
       " 'mall': 4367,\n",
       " 'sumthin': 6634,\n",
       " 'xx': 7690,\n",
       " 'finished': 2875,\n",
       " 'class': 1844,\n",
       " 'where': 7524,\n",
       " 'rose': 5869,\n",
       " 'red': 5689,\n",
       " 'blood': 1410,\n",
       " 'heart': 3406,\n",
       " 'send': 6049,\n",
       " 'tis': 6952,\n",
       " 'friends': 3019,\n",
       " 'including': 3671,\n",
       " 'back': 1215,\n",
       " 'poor': 5355,\n",
       " 'relation': 5716,\n",
       " 'support': 6652,\n",
       " 'frnd': 3026,\n",
       " 'many': 4383,\n",
       " 'some1': 6337,\n",
       " 'luvs': 4303,\n",
       " 'praying': 5420,\n",
       " 'god': 3184,\n",
       " 'marry': 4401,\n",
       " 'try': 7096,\n",
       " 'haven': 3382,\n",
       " 'decided': 2204,\n",
       " 'yet': 7725,\n",
       " 'eh': 2556,\n",
       " 'lei': 4106,\n",
       " 'most': 4633,\n",
       " 'pack': 5093,\n",
       " 'buy': 1597,\n",
       " 'any': 1009,\n",
       " 'store': 6540,\n",
       " 'cereals': 1724,\n",
       " 'food': 2944,\n",
       " 'gari': 3092,\n",
       " 'something': 6345,\n",
       " '9ja': 747,\n",
       " 'yupz': 7761,\n",
       " 'oredi': 5029,\n",
       " 'booked': 1440,\n",
       " 'slots': 6271,\n",
       " 'liao': 4125,\n",
       " 'turning': 7120,\n",
       " 'off': 4939,\n",
       " 'phone': 5236,\n",
       " 'moms': 4604,\n",
       " 'everyone': 2682,\n",
       " 'cancer': 1652,\n",
       " 'sister': 6225,\n",
       " 'calling': 1635,\n",
       " 'hurts': 3585,\n",
       " 'orh': 5034,\n",
       " 'tot': 7032,\n",
       " 'say': 5970,\n",
       " 'still': 6522,\n",
       " 'believe': 1325,\n",
       " 'download': 2436,\n",
       " 'ringtones': 5839,\n",
       " 'restrictions': 5797,\n",
       " '1000s': 254,\n",
       " 'choose': 1816,\n",
       " 'yr': 7750,\n",
       " 'buddys': 1566,\n",
       " 'sir': 6223,\n",
       " '80082': 647,\n",
       " 'vote': 7357,\n",
       " 'wherever': 7525,\n",
       " 'guides': 3293,\n",
       " 'dunno': 2495,\n",
       " 'juz': 3909,\n",
       " 'askin': 1118,\n",
       " 'card': 1664,\n",
       " '20': 339,\n",
       " 'salon': 5930,\n",
       " 'hair': 3318,\n",
       " 'sense': 6054,\n",
       " 'da': 2145,\n",
       " 'cut': 2134,\n",
       " 'going': 3190,\n",
       " 'antha': 1005,\n",
       " 'num': 4900,\n",
       " 'corrct': 2021,\n",
       " 'dane': 2156,\n",
       " 'borrow': 1455,\n",
       " 'bag': 1221,\n",
       " 'baby': 1209,\n",
       " 'ive': 3797,\n",
       " 'work': 7626,\n",
       " 'allday': 932,\n",
       " 'piss': 5272,\n",
       " 'xxx': 7692,\n",
       " 'stuck': 6571,\n",
       " 'middle': 4505,\n",
       " 'row': 5874,\n",
       " 'side': 6191,\n",
       " 'trust': 7093,\n",
       " 'asap': 1107,\n",
       " 'en': 2592,\n",
       " 'chikku': 1796,\n",
       " 'nange': 4732,\n",
       " 'bakra': 1226,\n",
       " 'kalstiya': 3921,\n",
       " 'tea': 6767,\n",
       " 'coffee': 1895,\n",
       " 'interested': 3732,\n",
       " 'may': 4434,\n",
       " 'business': 1590,\n",
       " 'plan': 5283,\n",
       " 'father': 2798,\n",
       " 'john': 3866,\n",
       " '____': 751,\n",
       " 'ans': 998,\n",
       " 'ths': 6917,\n",
       " 'hav': 3376,\n",
       " 'iq': 3760,\n",
       " 'ias': 3598,\n",
       " 'question': 5571,\n",
       " 'answer': 1000,\n",
       " 'lol': 4219,\n",
       " 'ill': 3636,\n",
       " 'warned': 7421,\n",
       " 'sprint': 6451,\n",
       " 'dead': 2189,\n",
       " 'slow': 6273,\n",
       " 'prolly': 5499,\n",
       " 'tomorrow': 6997,\n",
       " 'forwarded': 2977,\n",
       " '88877': 713,\n",
       " 'free': 2996,\n",
       " 'entry': 2628,\n",
       " 'into': 3738,\n",
       " '250': 365,\n",
       " 'weekly': 7481,\n",
       " 'comp': 1935,\n",
       " 'word': 7624,\n",
       " 'enter': 2617,\n",
       " '18': 315,\n",
       " 'textcomp': 6828,\n",
       " 'aight': 897,\n",
       " 'rush': 5903,\n",
       " 'ask': 1115,\n",
       " 'jay': 3826,\n",
       " 'prepare': 5432,\n",
       " 'pounded': 5392,\n",
       " 'every': 2677,\n",
       " 'feelin': 2819,\n",
       " 'pete': 5221,\n",
       " 'wuld': 7675,\n",
       " 'em': 2577,\n",
       " 'nuther': 4907,\n",
       " 'first': 2884,\n",
       " 'dhoni': 2291,\n",
       " 'rocks': 5856,\n",
       " 'told': 6987,\n",
       " 'before': 1313,\n",
       " 'stupid': 6584,\n",
       " 'wont': 7616,\n",
       " 'dad': 2146,\n",
       " 'brother': 1543,\n",
       " 'spoken': 6437,\n",
       " 'fwiw': 3069,\n",
       " 'reason': 5658,\n",
       " 'around': 1089,\n",
       " 'smoke': 6295,\n",
       " 'because': 1296,\n",
       " 'gas': 3095,\n",
       " 'afford': 862,\n",
       " 'someone': 6340,\n",
       " 'tells': 6792,\n",
       " 'apparently': 1037,\n",
       " 'happens': 3350,\n",
       " 'somebody': 6338,\n",
       " 'wants': 7416,\n",
       " 'light': 4140,\n",
       " '07090201529': 21,\n",
       " 'problem': 5477,\n",
       " 'doing': 2402,\n",
       " 'sick': 6190,\n",
       " 'shopping': 6149,\n",
       " 'urgent': 7237,\n",
       " 'mobile': 4582,\n",
       " 'awarded': 1189,\n",
       " '2000': 341,\n",
       " 'bonus': 1436,\n",
       " 'caller': 1630,\n",
       " '03': 12,\n",
       " 'final': 2863,\n",
       " 'landline': 4040,\n",
       " '09064019788': 213,\n",
       " 'box42wr29c': 1481,\n",
       " 'thanx': 6844,\n",
       " 'mom': 4601,\n",
       " 'might': 4508,\n",
       " 'later': 4061,\n",
       " 'than': 6837,\n",
       " 'balance': 1228,\n",
       " 'currently': 2124,\n",
       " '500': 540,\n",
       " 'pounds': 5393,\n",
       " 'maximize': 4432,\n",
       " 'collect': 1907,\n",
       " '83600': 676,\n",
       " 'cc': 1707,\n",
       " '08718720201': 133,\n",
       " 'po': 5316,\n",
       " 'box': 1470,\n",
       " '114': 269,\n",
       " '14': 288,\n",
       " 'tcr': 6764,\n",
       " 'w1': 7366,\n",
       " 'awesome': 1191,\n",
       " 'deal': 2190,\n",
       " 'gate': 3097,\n",
       " 'charles': 1751,\n",
       " 'uh': 7155,\n",
       " 'yeah': 7712,\n",
       " 'edison': 2536,\n",
       " 'has': 3365,\n",
       " 'rightly': 5830,\n",
       " 'fool': 2945,\n",
       " 'questions': 5573,\n",
       " 'wise': 7574,\n",
       " 'man': 4369,\n",
       " 'us': 7248,\n",
       " 'speechless': 6408,\n",
       " 'during': 2499,\n",
       " 'viva': 7343,\n",
       " 'gm': 3173,\n",
       " 'gn': 3174,\n",
       " 'ge': 3112,\n",
       " 'gnt': 3176,\n",
       " 'sch': 5983,\n",
       " 'anyway': 1021,\n",
       " 'donate': 2412,\n",
       " 'unicef': 7192,\n",
       " 'asian': 1113,\n",
       " 'tsunami': 7104,\n",
       " 'disaster': 2347,\n",
       " 'fund': 3057,\n",
       " 'texting': 6831,\n",
       " '864233': 693,\n",
       " 'added': 824,\n",
       " 'next': 4807,\n",
       " 'bill': 1366,\n",
       " 'guys': 3300,\n",
       " 'invite': 3746,\n",
       " 'anywhere': 1023,\n",
       " 'he': 3391,\n",
       " 'loverboy': 4269,\n",
       " 'goes': 3186,\n",
       " 'luck': 4292,\n",
       " 'sweetie': 6687,\n",
       " 'across': 807,\n",
       " 'sea': 6010,\n",
       " 'make': 4360,\n",
       " 'size': 6237,\n",
       " 'elephant': 2571,\n",
       " 'tablets': 6714,\n",
       " 'shove': 6164,\n",
       " 'um': 7164,\n",
       " 'ass': 1124,\n",
       " 'show': 6166,\n",
       " 'yourself': 7746,\n",
       " 'far': 2789,\n",
       " 'pictures': 5257,\n",
       " 'facebook': 2756,\n",
       " 'probably': 5476,\n",
       " 'reached': 5636,\n",
       " 'finally': 2865,\n",
       " 'kitty': 3983,\n",
       " 'shaved': 6110,\n",
       " 'natural': 4748,\n",
       " 'message': 4492,\n",
       " 'o2': 4920,\n",
       " 'calls': 1636,\n",
       " 'onwords': 4996,\n",
       " 'mtnl': 4672,\n",
       " 'south': 6383,\n",
       " 'mumbai': 4685,\n",
       " 'cann': 1653,\n",
       " 'listen': 4177,\n",
       " '077xxx': 31,\n",
       " '000': 1,\n",
       " '02': 7,\n",
       " '06': 18,\n",
       " '2nd': 404,\n",
       " 'attempt': 1147,\n",
       " 'reach': 5634,\n",
       " '09066362206': 225,\n",
       " 'box97n7qp': 1485,\n",
       " 'nights': 4821,\n",
       " 'staying': 6500,\n",
       " 'port': 5364,\n",
       " 'step': 6510,\n",
       " 'ex': 2701,\n",
       " 'month': 4617,\n",
       " 'kotees': 4006,\n",
       " 'birthday': 1377,\n",
       " 'mark': 4394,\n",
       " 'distract': 2364,\n",
       " 'isaiah': 3772,\n",
       " 'ya': 7699,\n",
       " 'tel': 6786,\n",
       " 'wats': 7444,\n",
       " 'camera': 1642,\n",
       " 'sipix': 6221,\n",
       " 'digital': 2321,\n",
       " '09061221066': 189,\n",
       " 'fromm': 3036,\n",
       " 'delivery': 2239,\n",
       " '28': 373,\n",
       " 'days': 2182,\n",
       " 'person': 5212,\n",
       " 'who': 7534,\n",
       " 'sms': 6301,\n",
       " 'survey': 6669,\n",
       " 'pls': 5307,\n",
       " 'excuses': 2711,\n",
       " 'whatever': 7515,\n",
       " 'pretty': 5449,\n",
       " 'pissed': 5273,\n",
       " 'umma': 7165,\n",
       " 'ticket': 6927,\n",
       " 'pongal': 5349,\n",
       " 'cooked': 2007,\n",
       " 'rather': 5620,\n",
       " 'salmon': 5929,\n",
       " 'la': 4018,\n",
       " 'yetunde': 7727,\n",
       " 'water': 7439,\n",
       " 'avatar': 1175,\n",
       " 'nigro': 4823,\n",
       " 'little': 4187,\n",
       " 'spreadsheet': 6447,\n",
       " 'track': 7045,\n",
       " 'whose': 7540,\n",
       " 'idea': 3615,\n",
       " 'determine': 2279,\n",
       " 'smokes': 6297,\n",
       " 'entire': 2623,\n",
       " 'february': 2814,\n",
       " 'fact': 2758,\n",
       " 'addie': 826,\n",
       " 'school': 5985,\n",
       " 'tues': 7109,\n",
       " 'wed': 7469,\n",
       " 'moji': 4597,\n",
       " 'informed': 3699,\n",
       " 'saved': 5967,\n",
       " 'lives': 4192,\n",
       " 'thanks': 6840,\n",
       " 'seeing': 6030,\n",
       " 'gr8': 3230,\n",
       " 'lot': 4249,\n",
       " 'bought': 1464,\n",
       " 'eggs': 2554,\n",
       " 'well': 7493,\n",
       " 'until': 7215,\n",
       " 'slightly': 6267,\n",
       " 'disastrous': 2349,\n",
       " 'pm': 5314,\n",
       " 'fav': 2803,\n",
       " 'darlings': 2168,\n",
       " 'wld': 7598,\n",
       " 'sun': 6635,\n",
       " 'anti': 1007,\n",
       " 'sleep': 6257,\n",
       " 'medicine': 4458,\n",
       " 'gave': 3101,\n",
       " 'registered': 5709,\n",
       " 'driving': 2465,\n",
       " 'ah': 888,\n",
       " 'tmr': 6964,\n",
       " 'wanna': 7411,\n",
       " 'yck': 7711,\n",
       " 'table': 6712,\n",
       " 'occupied': 4930,\n",
       " 'waiting': 7390,\n",
       " 'tree': 7073,\n",
       " 'battery': 1266,\n",
       " 'low': 4276,\n",
       " 'congrats': 1977,\n",
       " '2u2': 416,\n",
       " 'luv': 4301,\n",
       " 'released': 5721,\n",
       " 'another': 997,\n",
       " 'italian': 3784,\n",
       " 'cosign': 2027,\n",
       " 'option': 5016,\n",
       " 'earliest': 2512,\n",
       " 'improve': 3660,\n",
       " 'speak': 6400,\n",
       " 'treat': 7070,\n",
       " 'aids': 896,\n",
       " 'patent': 5155,\n",
       " 'taken': 6727,\n",
       " 'paining': 5103,\n",
       " 'gained': 3076,\n",
       " 'kg': 3953,\n",
       " 'since': 6212,\n",
       " 'took': 7011,\n",
       " 'second': 6016,\n",
       " 'sugar': 6619,\n",
       " 'tests': 6819,\n",
       " 'her': 3436,\n",
       " 'pressure': 5446,\n",
       " 'normal': 4866,\n",
       " 'limits': 4155,\n",
       " 'worries': 7637,\n",
       " 'bus': 1586,\n",
       " 'directly': 2337,\n",
       " 'calicut': 1621,\n",
       " 'his': 3465,\n",
       " 'number': 4901,\n",
       " 'morning': 4628,\n",
       " 'him': 3459,\n",
       " 'msgs': 4664,\n",
       " 'pass': 5147,\n",
       " 'silently': 6203,\n",
       " 'am': 951,\n",
       " 'thinking': 6884,\n",
       " 'also': 943,\n",
       " 'making': 4364,\n",
       " 'moment': 4602,\n",
       " 'swt': 6697,\n",
       " 'drms': 2467,\n",
       " 'shesil': 6120,\n",
       " 'headache': 3393,\n",
       " 'use': 7252,\n",
       " 'billion': 1368,\n",
       " 'classes': 1845,\n",
       " 'real': 5644,\n",
       " 'railway': 5594,\n",
       " 'keep': 3937,\n",
       " 'coz': 2053,\n",
       " 'nobody': 4840,\n",
       " 'fight': 2847,\n",
       " 'self': 6040,\n",
       " 'battle': 1267,\n",
       " 'vivekanand': 7345,\n",
       " 'sd': 6006,\n",
       " 'ham': 3327,\n",
       " 'minute': 4535,\n",
       " 'uawake': 7150,\n",
       " 'feellikw': 2822,\n",
       " 'shit': 6134,\n",
       " 'justfound': 3905,\n",
       " 'aletter': 921,\n",
       " 'thatmum': 6848,\n",
       " 'gotmarried': 3220,\n",
       " '4thnov': 530,\n",
       " 'behind': 1322,\n",
       " 'ourbacks': 5054,\n",
       " 'fuckinnice': 3047,\n",
       " 'selfish': 6041,\n",
       " 'deviousbitch': 2286,\n",
       " 'darlin': 2166,\n",
       " 'london': 4223,\n",
       " 'smashed': 6285,\n",
       " 'driver': 2463,\n",
       " 'dent': 2248,\n",
       " 'missing': 4550,\n",
       " 'special': 6402,\n",
       " 'cinema': 1832,\n",
       " 'yours': 7745,\n",
       " '09061209465': 186,\n",
       " 'suprman': 6656,\n",
       " 'matrix3': 4424,\n",
       " 'starwars3': 6490,\n",
       " 'etc': 2661,\n",
       " 'bx420': 1604,\n",
       " 'ip4': 3755,\n",
       " '5we': 568,\n",
       " '150pm': 301,\n",
       " 'sort': 6369,\n",
       " 'acc': 783,\n",
       " 'natwest': 4750,\n",
       " 'confirm': 1971,\n",
       " 'delay': 2230,\n",
       " 'masters': 4410,\n",
       " 'were': 7501,\n",
       " 'mad': 4334,\n",
       " 'woke': 7605,\n",
       " 'ikea': 3631,\n",
       " 'str': 6544,\n",
       " 'aft': 867,\n",
       " 'happened': 3347,\n",
       " ...}"
      ]
     },
     "execution_count": 25,
     "metadata": {},
     "output_type": "execute_result"
    }
   ],
   "source": [
    "v.vocabulary_"
   ]
  },
  {
   "cell_type": "code",
   "execution_count": 26,
   "id": "7cd8d6e3",
   "metadata": {},
   "outputs": [
    {
     "data": {
      "text/plain": [
       "'were'"
      ]
     },
     "execution_count": 26,
     "metadata": {},
     "output_type": "execute_result"
    }
   ],
   "source": [
    "v.get_feature_names_out()[7501]"
   ]
  },
  {
   "cell_type": "code",
   "execution_count": 27,
   "id": "6e1e6741",
   "metadata": {},
   "outputs": [
    {
     "data": {
      "text/plain": [
       "array([[0, 0, 0, ..., 0, 0, 0],\n",
       "       [0, 0, 0, ..., 0, 0, 0],\n",
       "       [0, 0, 0, ..., 0, 0, 0],\n",
       "       ...,\n",
       "       [0, 0, 0, ..., 0, 0, 0],\n",
       "       [0, 0, 0, ..., 0, 0, 0],\n",
       "       [0, 0, 0, ..., 0, 0, 0]], dtype=int64)"
      ]
     },
     "execution_count": 27,
     "metadata": {},
     "output_type": "execute_result"
    }
   ],
   "source": [
    "X_train_np=X_train_cv.toarray()\n",
    "X_train_np"
   ]
  },
  {
   "cell_type": "code",
   "execution_count": 28,
   "id": "74270c17",
   "metadata": {},
   "outputs": [
    {
     "data": {
      "text/plain": [
       "array([0, 0, 0, ..., 0, 0, 0], dtype=int64)"
      ]
     },
     "execution_count": 28,
     "metadata": {},
     "output_type": "execute_result"
    }
   ],
   "source": [
    "X_train_np[0]"
   ]
  },
  {
   "cell_type": "code",
   "execution_count": 29,
   "id": "c1119309",
   "metadata": {},
   "outputs": [
    {
     "data": {
      "text/plain": [
       "(array([1218, 2818, 4051, 4241, 4767, 4837, 6863, 7387, 7454], dtype=int64),)"
      ]
     },
     "execution_count": 29,
     "metadata": {},
     "output_type": "execute_result"
    }
   ],
   "source": [
    "np.where(X_train_np[0]!=0)"
   ]
  },
  {
   "cell_type": "code",
   "execution_count": 30,
   "id": "7e0c82dd",
   "metadata": {},
   "outputs": [
    {
     "data": {
      "text/plain": [
       "1"
      ]
     },
     "execution_count": 30,
     "metadata": {},
     "output_type": "execute_result"
    }
   ],
   "source": [
    "X_train_np[0][1218]"
   ]
  },
  {
   "cell_type": "code",
   "execution_count": 31,
   "id": "92b34140",
   "metadata": {},
   "outputs": [
    {
     "data": {
      "text/plain": [
       "'bad'"
      ]
     },
     "execution_count": 31,
     "metadata": {},
     "output_type": "execute_result"
    }
   ],
   "source": [
    "v.get_feature_names_out()[1218]"
   ]
  },
  {
   "cell_type": "code",
   "execution_count": 32,
   "id": "edc7418f",
   "metadata": {},
   "outputs": [
    {
     "data": {
      "text/plain": [
       "1398    Then we wait 4 u lor... No need 2 feel bad lar...\n",
       "1084    Wat makes some people dearer is not just de ha...\n",
       "1086    FR'NDSHIP is like a needle of a clock. Though ...\n",
       "2655                          Its sarcasm.. .nt scarcasim\n",
       "Name: Message, dtype: object"
      ]
     },
     "execution_count": 32,
     "metadata": {},
     "output_type": "execute_result"
    }
   ],
   "source": [
    "X_train[:4]"
   ]
  },
  {
   "cell_type": "code",
   "execution_count": 33,
   "id": "440d7c60",
   "metadata": {},
   "outputs": [
    {
     "data": {
      "text/plain": [
       "'Then we wait 4 u lor... No need 2 feel bad lar...'"
      ]
     },
     "execution_count": 33,
     "metadata": {},
     "output_type": "execute_result"
    }
   ],
   "source": [
    "X_train[:4][1398]"
   ]
  },
  {
   "cell_type": "code",
   "execution_count": 34,
   "id": "5c6882fa",
   "metadata": {},
   "outputs": [
    {
     "data": {
      "text/html": [
       "<style>#sk-container-id-1 {color: black;}#sk-container-id-1 pre{padding: 0;}#sk-container-id-1 div.sk-toggleable {background-color: white;}#sk-container-id-1 label.sk-toggleable__label {cursor: pointer;display: block;width: 100%;margin-bottom: 0;padding: 0.3em;box-sizing: border-box;text-align: center;}#sk-container-id-1 label.sk-toggleable__label-arrow:before {content: \"▸\";float: left;margin-right: 0.25em;color: #696969;}#sk-container-id-1 label.sk-toggleable__label-arrow:hover:before {color: black;}#sk-container-id-1 div.sk-estimator:hover label.sk-toggleable__label-arrow:before {color: black;}#sk-container-id-1 div.sk-toggleable__content {max-height: 0;max-width: 0;overflow: hidden;text-align: left;background-color: #f0f8ff;}#sk-container-id-1 div.sk-toggleable__content pre {margin: 0.2em;color: black;border-radius: 0.25em;background-color: #f0f8ff;}#sk-container-id-1 input.sk-toggleable__control:checked~div.sk-toggleable__content {max-height: 200px;max-width: 100%;overflow: auto;}#sk-container-id-1 input.sk-toggleable__control:checked~label.sk-toggleable__label-arrow:before {content: \"▾\";}#sk-container-id-1 div.sk-estimator input.sk-toggleable__control:checked~label.sk-toggleable__label {background-color: #d4ebff;}#sk-container-id-1 div.sk-label input.sk-toggleable__control:checked~label.sk-toggleable__label {background-color: #d4ebff;}#sk-container-id-1 input.sk-hidden--visually {border: 0;clip: rect(1px 1px 1px 1px);clip: rect(1px, 1px, 1px, 1px);height: 1px;margin: -1px;overflow: hidden;padding: 0;position: absolute;width: 1px;}#sk-container-id-1 div.sk-estimator {font-family: monospace;background-color: #f0f8ff;border: 1px dotted black;border-radius: 0.25em;box-sizing: border-box;margin-bottom: 0.5em;}#sk-container-id-1 div.sk-estimator:hover {background-color: #d4ebff;}#sk-container-id-1 div.sk-parallel-item::after {content: \"\";width: 100%;border-bottom: 1px solid gray;flex-grow: 1;}#sk-container-id-1 div.sk-label:hover label.sk-toggleable__label {background-color: #d4ebff;}#sk-container-id-1 div.sk-serial::before {content: \"\";position: absolute;border-left: 1px solid gray;box-sizing: border-box;top: 0;bottom: 0;left: 50%;z-index: 0;}#sk-container-id-1 div.sk-serial {display: flex;flex-direction: column;align-items: center;background-color: white;padding-right: 0.2em;padding-left: 0.2em;position: relative;}#sk-container-id-1 div.sk-item {position: relative;z-index: 1;}#sk-container-id-1 div.sk-parallel {display: flex;align-items: stretch;justify-content: center;background-color: white;position: relative;}#sk-container-id-1 div.sk-item::before, #sk-container-id-1 div.sk-parallel-item::before {content: \"\";position: absolute;border-left: 1px solid gray;box-sizing: border-box;top: 0;bottom: 0;left: 50%;z-index: -1;}#sk-container-id-1 div.sk-parallel-item {display: flex;flex-direction: column;z-index: 1;position: relative;background-color: white;}#sk-container-id-1 div.sk-parallel-item:first-child::after {align-self: flex-end;width: 50%;}#sk-container-id-1 div.sk-parallel-item:last-child::after {align-self: flex-start;width: 50%;}#sk-container-id-1 div.sk-parallel-item:only-child::after {width: 0;}#sk-container-id-1 div.sk-dashed-wrapped {border: 1px dashed gray;margin: 0 0.4em 0.5em 0.4em;box-sizing: border-box;padding-bottom: 0.4em;background-color: white;}#sk-container-id-1 div.sk-label label {font-family: monospace;font-weight: bold;display: inline-block;line-height: 1.2em;}#sk-container-id-1 div.sk-label-container {text-align: center;}#sk-container-id-1 div.sk-container {/* jupyter's `normalize.less` sets `[hidden] { display: none; }` but bootstrap.min.css set `[hidden] { display: none !important; }` so we also need the `!important` here to be able to override the default hidden behavior on the sphinx rendered scikit-learn.org. See: https://github.com/scikit-learn/scikit-learn/issues/21755 */display: inline-block !important;position: relative;}#sk-container-id-1 div.sk-text-repr-fallback {display: none;}</style><div id=\"sk-container-id-1\" class=\"sk-top-container\"><div class=\"sk-text-repr-fallback\"><pre>MultinomialNB()</pre><b>In a Jupyter environment, please rerun this cell to show the HTML representation or trust the notebook. <br />On GitHub, the HTML representation is unable to render, please try loading this page with nbviewer.org.</b></div><div class=\"sk-container\" hidden><div class=\"sk-item\"><div class=\"sk-estimator sk-toggleable\"><input class=\"sk-toggleable__control sk-hidden--visually\" id=\"sk-estimator-id-1\" type=\"checkbox\" checked><label for=\"sk-estimator-id-1\" class=\"sk-toggleable__label sk-toggleable__label-arrow\">MultinomialNB</label><div class=\"sk-toggleable__content\"><pre>MultinomialNB()</pre></div></div></div></div></div>"
      ],
      "text/plain": [
       "MultinomialNB()"
      ]
     },
     "execution_count": 34,
     "metadata": {},
     "output_type": "execute_result"
    }
   ],
   "source": [
    "model=MultinomialNB()\n",
    "model.fit(X_train_cv,y_train)"
   ]
  },
  {
   "cell_type": "code",
   "execution_count": 35,
   "id": "59793e9b",
   "metadata": {},
   "outputs": [],
   "source": [
    "X_test_cv=v.transform(X_test)"
   ]
  },
  {
   "cell_type": "code",
   "execution_count": 36,
   "id": "670a1930",
   "metadata": {},
   "outputs": [],
   "source": [
    "y_pred=model.predict(X_test_cv)"
   ]
  },
  {
   "cell_type": "code",
   "execution_count": 37,
   "id": "54a36cb6",
   "metadata": {},
   "outputs": [
    {
     "name": "stdout",
     "output_type": "stream",
     "text": [
      "              precision    recall  f1-score   support\n",
      "\n",
      "           0       1.00      0.98      0.99       994\n",
      "           1       0.88      0.98      0.93       121\n",
      "\n",
      "    accuracy                           0.98      1115\n",
      "   macro avg       0.94      0.98      0.96      1115\n",
      "weighted avg       0.99      0.98      0.98      1115\n",
      "\n"
     ]
    }
   ],
   "source": [
    "print(classification_report(y_pred,y_test))"
   ]
  },
  {
   "cell_type": "code",
   "execution_count": 38,
   "id": "cd7505a0",
   "metadata": {},
   "outputs": [
    {
     "data": {
      "image/png": "[encoded data removed]",
      "text/plain": [
       "<Figure size 648x504 with 2 Axes>"
      ]
     },
     "metadata": {
      "needs_background": "light"
     },
     "output_type": "display_data"
    }
   ],
   "source": [
    "plt.figure(figsize=(9,7))\n",
    "sns.heatmap(confusion_matrix(y_pred,y_test),annot=True,square=True,cbar=True,annot_kws={'size':15},fmt='d',cmap='Blues')\n",
    "plt.title('Confusion Matrix')\n",
    "plt.xlabel('Predicted')\n",
    "plt.ylabel('Truth')\n",
    "plt.show()"
   ]
  },
  {
   "cell_type": "code",
   "execution_count": 39,
   "id": "09ef134a",
   "metadata": {},
   "outputs": [
    {
     "data": {
      "text/plain": [
       "array([0, 1], dtype=int64)"
      ]
     },
     "execution_count": 39,
     "metadata": {},
     "output_type": "execute_result"
    }
   ],
   "source": [
    "emails=[\n",
    "    'Hey mohan, can we get together to watch football game tomorrow?',\n",
    "    'Upto 20% discount on parking, exclusive offer just for you. Dont miss this reward!'\n",
    "]\n",
    "emails_count=v.transform(emails)\n",
    "model.predict(emails_count)"
   ]
  }
 ],
 "metadata": {
  "kernelspec": {
   "display_name": "Python 3 (ipykernel)",
   "language": "python",
   "name": "python3"
  },
  "language_info": {
   "codemirror_mode": {
    "name": "ipython",
    "version": 3
   },
   "file_extension": ".py",
   "mimetype": "text/x-python",
   "name": "python",
   "nbconvert_exporter": "python",
   "pygments_lexer": "ipython3",
   "version": "3.10.5"
  }
 },
 "nbformat": 4,
 "nbformat_minor": 5
}
